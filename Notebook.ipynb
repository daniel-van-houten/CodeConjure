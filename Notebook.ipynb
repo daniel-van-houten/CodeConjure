{
 "cells": [
  {
   "cell_type": "markdown",
   "metadata": {},
   "source": [
    "### Some Setup Code"
   ]
  },
  {
   "cell_type": "code",
   "execution_count": null,
   "metadata": {},
   "outputs": [],
   "source": [
    "import os\n",
    "from langchain.agents.agent_toolkits import create_python_agent\n",
    "from langchain.callbacks import get_openai_callback\n",
    "from langchain.schema import BaseOutputParser, ChatResult\n",
    "from langchain.memory import ConversationBufferMemory\n",
    "from langchain.agents.conversational.prompt import FORMAT_INSTRUCTIONS\n",
    "import re\n",
    "import json\n",
    "from typing import Any\n",
    "\n",
    "def extract_file_paths(directory_structure, extensions=None):\n",
    "    lines = directory_structure.split('\\n')\n",
    "    paths = []\n",
    "    stack = []\n",
    "\n",
    "    for line in lines:\n",
    "        if not line.strip():\n",
    "            continue\n",
    "        depth = line.count('  ')\n",
    "        filename = line.strip(' -')\n",
    "\n",
    "        while depth <= len(stack) - 1:\n",
    "            stack.pop()\n",
    "\n",
    "        if '.' in filename and (not extensions or filename.split('.')[-1] in extensions):\n",
    "            file_path = '/'.join(stack + [filename])\n",
    "            paths.append(file_path)\n",
    "        else:\n",
    "            stack.append(filename)\n",
    "\n",
    "    return paths\n",
    "\n",
    "def get_chat_result_text(result:ChatResult):\n",
    "    return result.generations[0].text"
   ]
  },
  {
   "cell_type": "markdown",
   "metadata": {},
   "source": [
    "### Step 1: Describe the Project"
   ]
  },
  {
   "cell_type": "code",
   "execution_count": null,
   "metadata": {},
   "outputs": [],
   "source": [
    "SYSTEM_MESSAGE = \"\"\"You're an expert software engineer specializing in the AWS platform and Microsoft .NET development. \n",
    "You can generate complete production-ready code examples complete with xml comments and helpful code comments. \n",
    "Your code quality and readability is impeccable on its own, but where increased \n",
    "complexity is present you also add in code comments. While you have deep knowledge of best practices, \n",
    "you realize that sometimes real-world practicality outweighs academics. The names you choose for variables, classes and other\n",
    "components are always meaningful and descriptive. Your ability to organize projects is second to none.\"\"\"   \n",
    "\n",
    "PROJECT_DESCIPTION=\"\"\"I'd like to create a service which will fetch an object from S3 storage, parse it (it will contain 20K rows), \n",
    "and populate a supabase table with the data. The data represents a list of simple products and their attributes. The object is a json file.\n",
    "Once the data is in the supabase table, I need to send an email letting \"john@biz.com\" know the data has been loaded. \n",
    "I also need to create a simple API endpoint which will allow me to search the table by product name.\n",
    "\"\"\"\n",
    "\n",
    "# PROJECT_STYLE=\"\"\"\n",
    "# XML comments are added to all public methods and classes. \n",
    "# Components should be loosely coupled and follow the layered architecture. \n",
    "# Dependency Injection is very important.\n",
    "# There should be a single solution file which contains all .NET Core projects.\n",
    "# Use Nuget packages where appropriate to reduce custom code.\n",
    "# Do Not Generate Tests. I will write my own tests.\n",
    "# \"\"\"\n",
    "\n",
    "PROJECT_STYLE=\"\"\"\n",
    "XML comments are added to all public methods and classes. \n",
    "Components should be loosely coupled.\n",
    "Follow a Command / Query Pattern where commands and queries are encapsulated, separately. \n",
    "Use Dependency Injection for easier unit testing.\n",
    "There should be a single solution file which contains all .NET Core projects.\n",
    "Leverage known NuGet packages where appropriate to reduce custom code.\n",
    "Pick Names that are typically used in the .NET ecosystem.\n",
    "Use Newtonsoft.Json for JSON serialization tasks.\n",
    "Generate Tests.\n",
    "\"\"\"\n"
   ]
  },
  {
   "cell_type": "markdown",
   "metadata": {},
   "source": [
    "### Step 2: Generate the project structure"
   ]
  },
  {
   "cell_type": "code",
   "execution_count": null,
   "metadata": {},
   "outputs": [],
   "source": [
    "from langchain.prompts import StringPromptTemplate, ChatMessagePromptTemplate\n",
    "from pydantic import BaseModel, validator\n",
    "\n",
    "class CodeProjectOutlinePromptTemplate(StringPromptTemplate, BaseModel):\n",
    "    \n",
    "    def __init__(self, **data):\n",
    "        super().__init__(**data)\n",
    "        \n",
    "    \"\"\" A custom prompt template that takes in code project information and proposes a file structure \"\"\"\n",
    "\n",
    "    @validator(\"input_variables\")\n",
    "    def validate_input_variables(cls, v):\n",
    "        \"\"\" Validate that the input variables are correct. \"\"\"\n",
    "        if len(v) != 1 or \"project_description\" not in v:\n",
    "            raise ValueError(\"function_name must be the only input_variable.\")\n",
    "        return v\n",
    "\n",
    "    def format(self, **kwargs) -> str:\n",
    "        # Generate the prompt to be sent to the language model\n",
    "        prompt = f\"\"\"\n",
    "{kwargs[\"project_description\"]}\n",
    "Show me the complete directory structure containing the code files necessary to meet the described need. Do not explain.\n",
    "Output nothing but the directory structure.\n",
    "\n",
    "Here is an example of the output format I'm looking for:\n",
    "- ParentDirectory\n",
    "  - ChildDirectory\n",
    "    - ChildFile\n",
    "- ParentDirectory\n",
    "    - ChildFile\n",
    "\n",
    "Output nothing but the directory structure in plain text.\n",
    "\"\"\"\n",
    "        return prompt\n",
    "    \n",
    "    def _prompt_type(self):\n",
    "        return \"project-file-structure\"\n",
    "    \n"
   ]
  },
  {
   "cell_type": "code",
   "execution_count": null,
   "metadata": {},
   "outputs": [],
   "source": [
    "from langchain.chat_models.openai import ChatOpenAI\n",
    "\n",
    "# gpt-3.5-turbo | gpt-4\n",
    "llm=ChatOpenAI(model_name=\"gpt-3.5-turbo\", max_tokens=2048, temperature=0)"
   ]
  },
  {
   "cell_type": "markdown",
   "metadata": {},
   "source": [
    "Run the following until it produces something you like"
   ]
  },
  {
   "cell_type": "code",
   "execution_count": null,
   "metadata": {},
   "outputs": [],
   "source": [
    "from langchain.schema import AIMessage, HumanMessage, SystemMessage\n",
    "\n",
    "PROJECT_OUTLINE_FILE = \"project_outline.txt\"\n",
    "\n",
    "project_outline_prompt_template = CodeProjectOutlinePromptTemplate(input_variables=[\"project_description\"])\n",
    "project_outline_prompt = project_outline_prompt_template.format(project_description=f\"{PROJECT_DESCIPTION}\\n\\n{PROJECT_STYLE}\")\n",
    "\n",
    "response = llm._generate(messages=[HumanMessage(content=project_outline_prompt)])\n",
    "\n",
    "project_outline = get_chat_result_text(response)\n",
    "print(project_outline)\n",
    "\n",
    "with open(PROJECT_OUTLINE_FILE, \"w\") as f:\n",
    "    f.write(project_outline)"
   ]
  },
  {
   "cell_type": "code",
   "execution_count": null,
   "metadata": {},
   "outputs": [],
   "source": [
    "import shutil\n",
    "\n",
    "WORKING_DIRECTORY = \"./sandbox\"\n",
    "\n",
    "if not os.path.exists(PROJECT_OUTLINE_FILE):\n",
    "    raise Exception(\"Project outline file not found. Please run the previous cell to create one.\")\n",
    "\n",
    "files_paths = extract_file_paths(project_outline, [\"cs\"])\n",
    "\n",
    "messages = [\n",
    "    SystemMessage(content=SYSTEM_MESSAGE),\n",
    "    HumanMessage(content=project_outline_prompt),\n",
    "    AIMessage(content=project_outline)\n",
    "]\n",
    "\n",
    "# Code is usually presented with markdown code blocks even when asked to exclude them. \n",
    "# We need to remove these.\n",
    "code_markdown_pattern = r\"(?<!\\\\)```(?:[a-z]+\\n)?|\\n?```(?<!\\\\)\"\n",
    "\n",
    "# clean workspace\n",
    "if(os.path.exists(WORKING_DIRECTORY)):\n",
    "    print('sandbox exists. deleting...')\n",
    "    shutil.rmtree(WORKING_DIRECTORY)\n",
    "    \n",
    "\n",
    "for file_path in files_paths[:6]: # Limiting to 5 files for now\n",
    "    print(file_path)\n",
    "    sandbox_path = os.path.join(WORKING_DIRECTORY, file_path)\n",
    "    os.makedirs(os.path.dirname(sandbox_path), exist_ok=True)\n",
    "    \n",
    "    code_prompt = HumanMessage(content=\"Show me the code for: \" + file_path + \".\\n\\nOutput only the code in plain text, no markdown or explanations.\")\n",
    "    \n",
    "    temp_messages = messages.copy()\n",
    "    temp_messages.append(code_prompt)\n",
    "    \n",
    "    result = llm._generate(messages=temp_messages)\n",
    "    code = get_chat_result_text(result)\n",
    "    code = re.sub(code_markdown_pattern, \"\", code)\n",
    "    \n",
    "    with open(sandbox_path, 'w') as f:\n",
    "        f.write(code)\n",
    "\n"
   ]
  }
 ],
 "metadata": {
  "kernelspec": {
   "display_name": "Python 3 (ipykernel)",
   "language": "python",
   "name": "python3"
  },
  "language_info": {
   "codemirror_mode": {
    "name": "ipython",
    "version": 3
   },
   "file_extension": ".py",
   "mimetype": "text/x-python",
   "name": "python",
   "nbconvert_exporter": "python",
   "pygments_lexer": "ipython3",
   "version": "3.10.10"
  }
 },
 "nbformat": 4,
 "nbformat_minor": 4
}
